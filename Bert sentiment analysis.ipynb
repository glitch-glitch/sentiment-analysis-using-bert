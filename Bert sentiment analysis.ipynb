{
 "cells": [
  {
   "cell_type": "code",
   "execution_count": 3,
   "id": "84331341",
   "metadata": {},
   "outputs": [],
   "source": [
    "import numpy as np\n",
    "import pandas as pd\n",
    "import tensorflow as tf\n",
    "import tensorflow_hub as hub\n",
    "from tensorflow.keras.models import Model\n",
    "import tensorflow.python.trackable.data_structures\n",
    "import os\n",
    "import warnings\n",
    "warnings.filterwarnings('ignore')\n",
    "os.environ['TF_CPP_MIN_LOG_LEVEL'] = '3'\n",
    "tf.autograph.set_verbosity(0)"
   ]
  },
  {
   "cell_type": "code",
   "execution_count": 2,
   "id": "d600b262",
   "metadata": {},
   "outputs": [
    {
     "name": "stdout",
     "output_type": "stream",
     "text": [
      "Collecting tensorflow_hub\n",
      "  Downloading tensorflow_hub-0.12.0-py2.py3-none-any.whl (108 kB)\n",
      "     ---------------------------------------- 108.8/108.8 kB ? eta 0:00:00\n",
      "Requirement already satisfied: numpy>=1.12.0 in c:\\users\\xapo\\anaconda3\\lib\\site-packages (from tensorflow_hub) (1.21.5)\n",
      "Requirement already satisfied: protobuf>=3.8.0 in c:\\users\\xapo\\anaconda3\\lib\\site-packages (from tensorflow_hub) (3.19.6)\n",
      "Installing collected packages: tensorflow_hub\n",
      "Successfully installed tensorflow_hub-0.12.0\n"
     ]
    }
   ],
   "source": [
    "!pip install tensorflow_hub\n"
   ]
  },
  {
   "cell_type": "code",
   "execution_count": 4,
   "id": "3c3ac9ee",
   "metadata": {},
   "outputs": [
    {
     "name": "stdout",
     "output_type": "stream",
     "text": [
      "Fri Nov  4 12:32:46 2022       \n",
      "+-----------------------------------------------------------------------------+\n",
      "| NVIDIA-SMI 517.40       Driver Version: 517.40       CUDA Version: 11.7     |\n",
      "|-------------------------------+----------------------+----------------------+\n",
      "| GPU  Name            TCC/WDDM | Bus-Id        Disp.A | Volatile Uncorr. ECC |\n",
      "| Fan  Temp  Perf  Pwr:Usage/Cap|         Memory-Usage | GPU-Util  Compute M. |\n",
      "|                               |                      |               MIG M. |\n",
      "|===============================+======================+======================|\n",
      "|   0  NVIDIA GeForce ... WDDM  | 00000000:07:00.0  On |                  N/A |\n",
      "|  0%   45C    P8    18W / 220W |    668MiB /  8192MiB |      0%      Default |\n",
      "|                               |                      |                  N/A |\n",
      "+-------------------------------+----------------------+----------------------+\n",
      "                                                                               \n",
      "+-----------------------------------------------------------------------------+\n",
      "| Processes:                                                                  |\n",
      "|  GPU   GI   CI        PID   Type   Process name                  GPU Memory |\n",
      "|        ID   ID                                                   Usage      |\n",
      "|=============================================================================|\n",
      "|    0   N/A  N/A      3472    C+G   ...wekyb3d8bbwe\\Music.UI.exe    N/A      |\n",
      "|    0   N/A  N/A      4240    C+G   ...2txyewy\\TextInputHost.exe    N/A      |\n",
      "|    0   N/A  N/A      8148    C+G   ...ser\\Application\\brave.exe    N/A      |\n",
      "|    0   N/A  N/A     10872    C+G   ...y\\ShellExperienceHost.exe    N/A      |\n",
      "|    0   N/A  N/A     13204    C+G   C:\\Windows\\explorer.exe         N/A      |\n",
      "|    0   N/A  N/A     13412    C+G   ...s\\Win64\\EpicWebHelper.exe    N/A      |\n",
      "|    0   N/A  N/A     14384    C+G   ...\\app-1.0.9007\\Discord.exe    N/A      |\n",
      "|    0   N/A  N/A     15796    C+G   ...ge\\Application\\msedge.exe    N/A      |\n",
      "|    0   N/A  N/A     16652    C+G   ...zpdnekdrzrea0\\Spotify.exe    N/A      |\n",
      "|    0   N/A  N/A     16736    C+G   ...cw5n1h2txyewy\\LockApp.exe    N/A      |\n",
      "|    0   N/A  N/A     17308    C+G   ...5n1h2txyewy\\SearchApp.exe    N/A      |\n",
      "|    0   N/A  N/A     17908    C+G   ...bbwe\\Microsoft.Photos.exe    N/A      |\n",
      "|    0   N/A  N/A     18136    C+G   ...e\\PhoneExperienceHost.exe    N/A      |\n",
      "|    0   N/A  N/A     18228    C+G   ...lPanel\\SystemSettings.exe    N/A      |\n",
      "|    0   N/A  N/A     19184    C+G   ...n64\\EpicGamesLauncher.exe    N/A      |\n",
      "+-----------------------------------------------------------------------------+\n"
     ]
    }
   ],
   "source": [
    "!nvidia-smi"
   ]
  },
  {
   "cell_type": "code",
   "execution_count": 5,
   "id": "dcafa585",
   "metadata": {},
   "outputs": [],
   "source": [
    "data=pd.read_csv(\"Reviews.csv\")"
   ]
  },
  {
   "cell_type": "code",
   "execution_count": 6,
   "id": "51e7c019",
   "metadata": {},
   "outputs": [
    {
     "name": "stdout",
     "output_type": "stream",
     "text": [
      "<class 'pandas.core.frame.DataFrame'>\n",
      "RangeIndex: 568454 entries, 0 to 568453\n",
      "Data columns (total 10 columns):\n",
      " #   Column                  Non-Null Count   Dtype \n",
      "---  ------                  --------------   ----- \n",
      " 0   Id                      568454 non-null  int64 \n",
      " 1   ProductId               568454 non-null  object\n",
      " 2   UserId                  568454 non-null  object\n",
      " 3   ProfileName             568438 non-null  object\n",
      " 4   HelpfulnessNumerator    568454 non-null  int64 \n",
      " 5   HelpfulnessDenominator  568454 non-null  int64 \n",
      " 6   Score                   568454 non-null  int64 \n",
      " 7   Time                    568454 non-null  int64 \n",
      " 8   Summary                 568427 non-null  object\n",
      " 9   Text                    568454 non-null  object\n",
      "dtypes: int64(5), object(5)\n",
      "memory usage: 43.4+ MB\n"
     ]
    }
   ],
   "source": [
    "data.info()"
   ]
  },
  {
   "cell_type": "code",
   "execution_count": 7,
   "id": "7298b68c",
   "metadata": {},
   "outputs": [
    {
     "data": {
      "text/plain": [
       "(array([1, 2, 3, 4, 5], dtype=int64),\n",
       " array([ 52268,  29769,  42640,  80655, 363122], dtype=int64))"
      ]
     },
     "execution_count": 7,
     "metadata": {},
     "output_type": "execute_result"
    }
   ],
   "source": [
    "np.unique(data.Score,return_counts=True)"
   ]
  },
  {
   "cell_type": "code",
   "execution_count": 8,
   "id": "400674b5",
   "metadata": {},
   "outputs": [
    {
     "data": {
      "text/html": [
       "<div>\n",
       "<style scoped>\n",
       "    .dataframe tbody tr th:only-of-type {\n",
       "        vertical-align: middle;\n",
       "    }\n",
       "\n",
       "    .dataframe tbody tr th {\n",
       "        vertical-align: top;\n",
       "    }\n",
       "\n",
       "    .dataframe thead th {\n",
       "        text-align: right;\n",
       "    }\n",
       "</style>\n",
       "<table border=\"1\" class=\"dataframe\">\n",
       "  <thead>\n",
       "    <tr style=\"text-align: right;\">\n",
       "      <th></th>\n",
       "      <th>Id</th>\n",
       "      <th>ProductId</th>\n",
       "      <th>UserId</th>\n",
       "      <th>ProfileName</th>\n",
       "      <th>HelpfulnessNumerator</th>\n",
       "      <th>HelpfulnessDenominator</th>\n",
       "      <th>Score</th>\n",
       "      <th>Time</th>\n",
       "      <th>Summary</th>\n",
       "      <th>Text</th>\n",
       "    </tr>\n",
       "  </thead>\n",
       "  <tbody>\n",
       "    <tr>\n",
       "      <th>0</th>\n",
       "      <td>1</td>\n",
       "      <td>B001E4KFG0</td>\n",
       "      <td>A3SGXH7AUHU8GW</td>\n",
       "      <td>delmartian</td>\n",
       "      <td>1</td>\n",
       "      <td>1</td>\n",
       "      <td>5</td>\n",
       "      <td>1303862400</td>\n",
       "      <td>Good Quality Dog Food</td>\n",
       "      <td>I have bought several of the Vitality canned d...</td>\n",
       "    </tr>\n",
       "    <tr>\n",
       "      <th>1</th>\n",
       "      <td>2</td>\n",
       "      <td>B00813GRG4</td>\n",
       "      <td>A1D87F6ZCVE5NK</td>\n",
       "      <td>dll pa</td>\n",
       "      <td>0</td>\n",
       "      <td>0</td>\n",
       "      <td>1</td>\n",
       "      <td>1346976000</td>\n",
       "      <td>Not as Advertised</td>\n",
       "      <td>Product arrived labeled as Jumbo Salted Peanut...</td>\n",
       "    </tr>\n",
       "    <tr>\n",
       "      <th>2</th>\n",
       "      <td>3</td>\n",
       "      <td>B000LQOCH0</td>\n",
       "      <td>ABXLMWJIXXAIN</td>\n",
       "      <td>Natalia Corres \"Natalia Corres\"</td>\n",
       "      <td>1</td>\n",
       "      <td>1</td>\n",
       "      <td>4</td>\n",
       "      <td>1219017600</td>\n",
       "      <td>\"Delight\" says it all</td>\n",
       "      <td>This is a confection that has been around a fe...</td>\n",
       "    </tr>\n",
       "    <tr>\n",
       "      <th>3</th>\n",
       "      <td>4</td>\n",
       "      <td>B000UA0QIQ</td>\n",
       "      <td>A395BORC6FGVXV</td>\n",
       "      <td>Karl</td>\n",
       "      <td>3</td>\n",
       "      <td>3</td>\n",
       "      <td>2</td>\n",
       "      <td>1307923200</td>\n",
       "      <td>Cough Medicine</td>\n",
       "      <td>If you are looking for the secret ingredient i...</td>\n",
       "    </tr>\n",
       "    <tr>\n",
       "      <th>4</th>\n",
       "      <td>5</td>\n",
       "      <td>B006K2ZZ7K</td>\n",
       "      <td>A1UQRSCLF8GW1T</td>\n",
       "      <td>Michael D. Bigham \"M. Wassir\"</td>\n",
       "      <td>0</td>\n",
       "      <td>0</td>\n",
       "      <td>5</td>\n",
       "      <td>1350777600</td>\n",
       "      <td>Great taffy</td>\n",
       "      <td>Great taffy at a great price.  There was a wid...</td>\n",
       "    </tr>\n",
       "  </tbody>\n",
       "</table>\n",
       "</div>"
      ],
      "text/plain": [
       "   Id   ProductId          UserId                      ProfileName  \\\n",
       "0   1  B001E4KFG0  A3SGXH7AUHU8GW                       delmartian   \n",
       "1   2  B00813GRG4  A1D87F6ZCVE5NK                           dll pa   \n",
       "2   3  B000LQOCH0   ABXLMWJIXXAIN  Natalia Corres \"Natalia Corres\"   \n",
       "3   4  B000UA0QIQ  A395BORC6FGVXV                             Karl   \n",
       "4   5  B006K2ZZ7K  A1UQRSCLF8GW1T    Michael D. Bigham \"M. Wassir\"   \n",
       "\n",
       "   HelpfulnessNumerator  HelpfulnessDenominator  Score        Time  \\\n",
       "0                     1                       1      5  1303862400   \n",
       "1                     0                       0      1  1346976000   \n",
       "2                     1                       1      4  1219017600   \n",
       "3                     3                       3      2  1307923200   \n",
       "4                     0                       0      5  1350777600   \n",
       "\n",
       "                 Summary                                               Text  \n",
       "0  Good Quality Dog Food  I have bought several of the Vitality canned d...  \n",
       "1      Not as Advertised  Product arrived labeled as Jumbo Salted Peanut...  \n",
       "2  \"Delight\" says it all  This is a confection that has been around a fe...  \n",
       "3         Cough Medicine  If you are looking for the secret ingredient i...  \n",
       "4            Great taffy  Great taffy at a great price.  There was a wid...  "
      ]
     },
     "execution_count": 8,
     "metadata": {},
     "output_type": "execute_result"
    }
   ],
   "source": [
    "data.head()"
   ]
  },
  {
   "cell_type": "code",
   "execution_count": 9,
   "id": "4df2bdeb",
   "metadata": {},
   "outputs": [],
   "source": [
    "data.loc[data['Score'] <=2, 'Score'] = 0\n",
    "data.loc[data['Score'] > 3, 'Score'] = 1"
   ]
  },
  {
   "cell_type": "code",
   "execution_count": 10,
   "id": "41a8173d",
   "metadata": {},
   "outputs": [],
   "source": [
    "data.drop(data[data['Score']==3].index,inplace=True)"
   ]
  },
  {
   "cell_type": "code",
   "execution_count": 11,
   "id": "771490f8",
   "metadata": {},
   "outputs": [],
   "source": [
    "data['len'] = data.Text.apply(lambda x: len(x.split()))"
   ]
  },
  {
   "cell_type": "code",
   "execution_count": 12,
   "id": "a6910598",
   "metadata": {},
   "outputs": [],
   "source": [
    "data = data.sample(n=500000, random_state=69, replace=True)"
   ]
  },
  {
   "cell_type": "code",
   "execution_count": 13,
   "id": "0745fdb5",
   "metadata": {},
   "outputs": [],
   "source": [
    "import re\n",
    "data['Text']=data['Text'].apply(lambda row : re.sub('<.*?>','',row))"
   ]
  },
  {
   "cell_type": "code",
   "execution_count": 14,
   "id": "f14a8937",
   "metadata": {},
   "outputs": [],
   "source": [
    "from sklearn.model_selection import train_test_split"
   ]
  },
  {
   "cell_type": "code",
   "execution_count": 15,
   "id": "828227eb",
   "metadata": {},
   "outputs": [],
   "source": [
    "X_train, X_test, y_train, y_test = train_test_split(data[['Text','len']],data.Score, test_size=0.2, random_state=69, stratify=data.Score)"
   ]
  },
  {
   "cell_type": "code",
   "execution_count": 16,
   "id": "4e86a76e",
   "metadata": {},
   "outputs": [
    {
     "data": {
      "text/plain": [
       "((400000, 2), (100000, 2))"
      ]
     },
     "execution_count": 16,
     "metadata": {},
     "output_type": "execute_result"
    }
   ],
   "source": [
    "X_train.shape,X_test.shape"
   ]
  },
  {
   "cell_type": "code",
   "execution_count": 17,
   "id": "d0e56252",
   "metadata": {},
   "outputs": [
    {
     "name": "stdout",
     "output_type": "stream",
     "text": [
      "WARNING:tensorflow:Please fix your imports. Module tensorflow.python.training.tracking.data_structures has been moved to tensorflow.python.trackable.data_structures. The old module will be deleted in version 2.11.\n"
     ]
    }
   ],
   "source": [
    "max_seq_length = 55\n",
    "tf.keras.backend.clear_session()\n",
    "input_word_ids = tf.keras.layers.Input(shape=(max_seq_length,), dtype=tf.int32, name=\"input_word_ids\")\n",
    "                # ids of words\n",
    "input_mask = tf.keras.layers.Input(shape=(max_seq_length,), dtype=tf.int32, name=\"input_mask\")\n",
    "                # masking of ids\n",
    "segment_ids = tf.keras.layers.Input(shape=(max_seq_length,), dtype=tf.int32, name=\"segment_ids\")\n",
    "                # segment of ids\n",
    "bert_layer = hub.KerasLayer(\"https://tfhub.dev/tensorflow/bert_en_uncased_L-12_H-768_A-12/1\", trainable=False)\n",
    "pooled_output, sequence_output = bert_layer([input_word_ids, input_mask, segment_ids])\n",
    "\n",
    "bert_model = Model(inputs=[input_word_ids, input_mask, segment_ids], outputs=pooled_output)"
   ]
  },
  {
   "cell_type": "code",
   "execution_count": 18,
   "id": "c0076770",
   "metadata": {},
   "outputs": [
    {
     "name": "stdout",
     "output_type": "stream",
     "text": [
      "Model: \"model\"\n",
      "__________________________________________________________________________________________________\n",
      " Layer (type)                   Output Shape         Param #     Connected to                     \n",
      "==================================================================================================\n",
      " input_word_ids (InputLayer)    [(None, 55)]         0           []                               \n",
      "                                                                                                  \n",
      " input_mask (InputLayer)        [(None, 55)]         0           []                               \n",
      "                                                                                                  \n",
      " segment_ids (InputLayer)       [(None, 55)]         0           []                               \n",
      "                                                                                                  \n",
      " keras_layer (KerasLayer)       [(None, 768),        109482241   ['input_word_ids[0][0]',         \n",
      "                                 (None, 55, 768)]                 'input_mask[0][0]',             \n",
      "                                                                  'segment_ids[0][0]']            \n",
      "                                                                                                  \n",
      "==================================================================================================\n",
      "Total params: 109,482,241\n",
      "Trainable params: 0\n",
      "Non-trainable params: 109,482,241\n",
      "__________________________________________________________________________________________________\n"
     ]
    }
   ],
   "source": [
    "bert_model.summary()"
   ]
  },
  {
   "cell_type": "code",
   "execution_count": 22,
   "id": "06dc327c",
   "metadata": {},
   "outputs": [],
   "source": [
    "BertTokenizer = bert.bert_tokenization.FullTokenizer\n",
    "bert_layer = hub.KerasLayer(\"https://tfhub.dev/tensorflow/bert_en_uncased_L-12_H-768_A-12/1\",\n",
    "                            trainable=False)\n",
    "vocabulary_file = bert_layer.resolved_object.vocab_file.asset_path.numpy()\n",
    "to_lower_case = bert_layer.resolved_object.do_lower_case.numpy()\n",
    "tokenizer = BertTokenizer(vocabulary_file, to_lower_case)"
   ]
  },
  {
   "cell_type": "code",
   "execution_count": 20,
   "id": "28473ad1",
   "metadata": {},
   "outputs": [
    {
     "name": "stdout",
     "output_type": "stream",
     "text": [
      "Collecting bert-for-tf2\n",
      "  Downloading bert-for-tf2-0.14.9.tar.gz (41 kB)\n",
      "     ---------------------------------------- 41.2/41.2 kB ? eta 0:00:00\n",
      "  Preparing metadata (setup.py): started\n",
      "  Preparing metadata (setup.py): finished with status 'done'\n",
      "Collecting py-params>=0.9.6\n",
      "  Downloading py-params-0.10.2.tar.gz (7.4 kB)\n",
      "  Preparing metadata (setup.py): started\n",
      "  Preparing metadata (setup.py): finished with status 'done'\n",
      "Collecting params-flow>=0.8.0\n",
      "  Downloading params-flow-0.8.2.tar.gz (22 kB)\n",
      "  Preparing metadata (setup.py): started\n",
      "  Preparing metadata (setup.py): finished with status 'done'\n",
      "Requirement already satisfied: numpy in c:\\users\\xapo\\anaconda3\\lib\\site-packages (from params-flow>=0.8.0->bert-for-tf2) (1.21.5)\n",
      "Requirement already satisfied: tqdm in c:\\users\\xapo\\anaconda3\\lib\\site-packages (from params-flow>=0.8.0->bert-for-tf2) (4.64.1)\n",
      "Requirement already satisfied: colorama in c:\\users\\xapo\\anaconda3\\lib\\site-packages (from tqdm->params-flow>=0.8.0->bert-for-tf2) (0.4.5)\n",
      "Building wheels for collected packages: bert-for-tf2, params-flow, py-params\n",
      "  Building wheel for bert-for-tf2 (setup.py): started\n",
      "  Building wheel for bert-for-tf2 (setup.py): finished with status 'done'\n",
      "  Created wheel for bert-for-tf2: filename=bert_for_tf2-0.14.9-py3-none-any.whl size=30516 sha256=d4ff59508c6c199b364e72bc6eba972eb6a3d3dec6a3da10c069e9fcaa4bdab2\n",
      "  Stored in directory: c:\\users\\xapo\\appdata\\local\\pip\\cache\\wheels\\6f\\c7\\91\\f2b2c2b3cec30578c5de7c27ac99659a2013501dd66e7e3db0\n",
      "  Building wheel for params-flow (setup.py): started\n",
      "  Building wheel for params-flow (setup.py): finished with status 'done'\n",
      "  Created wheel for params-flow: filename=params_flow-0.8.2-py3-none-any.whl size=19458 sha256=6698fbaeb86b7d9f311f2af67eb74fde3894deee30430701bd2a670cb580d756\n",
      "  Stored in directory: c:\\users\\xapo\\appdata\\local\\pip\\cache\\wheels\\be\\17\\6c\\5c924411a614ee0a74b2dc4f04c9e61dacc4e60fe9854f4f70\n",
      "  Building wheel for py-params (setup.py): started\n",
      "  Building wheel for py-params (setup.py): finished with status 'done'\n",
      "  Created wheel for py-params: filename=py_params-0.10.2-py3-none-any.whl size=7891 sha256=5f940c3dd6ae3982871620b2550a11807d9c69acab7907d7a373fbdbbafec8ca\n",
      "  Stored in directory: c:\\users\\xapo\\appdata\\local\\pip\\cache\\wheels\\29\\ff\\b1\\77192657c3311dcae256412a7f36f73b064ace9c98312f5347\n",
      "Successfully built bert-for-tf2 params-flow py-params\n",
      "Installing collected packages: py-params, params-flow, bert-for-tf2\n",
      "Successfully installed bert-for-tf2-0.14.9 params-flow-0.8.2 py-params-0.10.2\n"
     ]
    }
   ],
   "source": [
    "!pip install bert-for-tf2"
   ]
  },
  {
   "cell_type": "code",
   "execution_count": 21,
   "id": "75a73258",
   "metadata": {},
   "outputs": [],
   "source": [
    "from tensorflow.keras import layers\n",
    "import bert"
   ]
  },
  {
   "cell_type": "code",
   "execution_count": 63,
   "id": "a466430d",
   "metadata": {},
   "outputs": [],
   "source": []
  },
  {
   "cell_type": "code",
   "execution_count": 69,
   "id": "880b71a3",
   "metadata": {},
   "outputs": [
    {
     "data": {
      "text/plain": [
       "['don', \"'\", 't', 'be', 'so', 'judgment', '##al']"
      ]
     },
     "execution_count": 69,
     "metadata": {},
     "output_type": "execute_result"
    }
   ],
   "source": [
    "tokenizer.tokenize(\"don't be so judgmental\")"
   ]
  },
  {
   "cell_type": "code",
   "execution_count": 70,
   "id": "bafc3f68",
   "metadata": {},
   "outputs": [
    {
     "data": {
      "text/plain": [
       "[2123, 2102, 2022, 2061, 8689, 2389]"
      ]
     },
     "execution_count": 70,
     "metadata": {},
     "output_type": "execute_result"
    }
   ],
   "source": [
    "tokenizer.convert_tokens_to_ids(tokenizer.tokenize(\"dont be so judgmental\"))"
   ]
  },
  {
   "cell_type": "code",
   "execution_count": 32,
   "id": "5217386a",
   "metadata": {},
   "outputs": [],
   "source": [
    "def tokenize_reviews(text_reviews):\n",
    "    return tokenizer.convert_tokens_to_ids(tokenizer.tokenize(text_reviews))"
   ]
  },
  {
   "cell_type": "code",
   "execution_count": 33,
   "id": "2fe88eda",
   "metadata": {},
   "outputs": [],
   "source": [
    "def bert_preprocess(sentence,tokenizer,max_seq_len=512):\n",
    "    tokens=[]\n",
    "    masks=[]\n",
    "    segments=[]\n",
    "    for word in sentence:\n",
    "        word=tokenizer.tokenize(word)\n",
    "        word=word[:max_seq_len-2]\n",
    "        seq=[\"[CLS]\"] + word + [\"[SEP]\"]\n",
    "        token = tokenizer.convert_tokens_to_ids(seq)\n",
    "        padding_tokens=token+[0]*(max_seq_len-len(token))\n",
    "        mask=[1]*len(seq)\n",
    "        masking=mask+[0]*(max_seq_len-len(token))\n",
    "        segment=np.zeros(max_seq_length)\n",
    "        \n",
    "        tokens.append(padding_tokens)\n",
    "        masks.append(masking)\n",
    "        segments.append(segment)\n",
    "    return np.array(tokens),np.array(masks),np.array(segments)"
   ]
  },
  {
   "cell_type": "code",
   "execution_count": 34,
   "id": "e9efdf4e",
   "metadata": {},
   "outputs": [],
   "source": [
    "import tokenization"
   ]
  },
  {
   "cell_type": "code",
   "execution_count": 35,
   "id": "36cd482f",
   "metadata": {},
   "outputs": [
    {
     "data": {
      "text/plain": [
       "[<KerasTensor: shape=(None, 55) dtype=int32 (created by layer 'input_word_ids')>,\n",
       " <KerasTensor: shape=(None, 55) dtype=int32 (created by layer 'input_mask')>,\n",
       " <KerasTensor: shape=(None, 55) dtype=int32 (created by layer 'segment_ids')>]"
      ]
     },
     "execution_count": 35,
     "metadata": {},
     "output_type": "execute_result"
    }
   ],
   "source": [
    "bert_model.input"
   ]
  },
  {
   "cell_type": "code",
   "execution_count": 36,
   "id": "e2368ac0",
   "metadata": {},
   "outputs": [
    {
     "data": {
      "text/plain": [
       "<KerasTensor: shape=(None, 768) dtype=float32 (created by layer 'keras_layer')>"
      ]
     },
     "execution_count": 36,
     "metadata": {},
     "output_type": "execute_result"
    }
   ],
   "source": [
    "bert_model.output"
   ]
  },
  {
   "cell_type": "code",
   "execution_count": 37,
   "id": "abedf9e2",
   "metadata": {},
   "outputs": [],
   "source": [
    "X_train_tokens, X_train_mask, X_train_segment=bert_preprocess(X_train.Text.values,tokenizer,55)\n",
    "X_test_tokens, X_test_mask, X_test_segment=bert_preprocess(X_test.Text.values,tokenizer,55)"
   ]
  },
  {
   "cell_type": "code",
   "execution_count": 38,
   "id": "caf316c9",
   "metadata": {},
   "outputs": [
    {
     "name": "stdout",
     "output_type": "stream",
     "text": [
      "12500/12500 [==============================] - 20946s 2s/step\n",
      "3125/3125 [==============================] - 5270s 2s/step\n"
     ]
    }
   ],
   "source": [
    "X_train_pooled_output=bert_model.predict([X_train_tokens,X_train_mask,X_train_segment])\n",
    "X_test_pooled_output=bert_model.predict([X_test_tokens,X_test_mask,X_test_segment])"
   ]
  },
  {
   "cell_type": "code",
   "execution_count": 39,
   "id": "635a6028",
   "metadata": {},
   "outputs": [],
   "source": [
    "from tensorflow.keras.layers import Input, Dense, Activation, Dropout\n",
    "from tensorflow.keras.models import Model\n",
    "import datetime\n",
    "from sklearn.metrics import roc_auc_score"
   ]
  },
  {
   "cell_type": "code",
   "execution_count": 40,
   "id": "4c777756",
   "metadata": {},
   "outputs": [],
   "source": [
    "auc=[]\n",
    "val_auc=[]\n",
    "class LossHistory(tf.keras.callbacks.Callback):\n",
    "    \n",
    "    def on_train_begin(self, logs={}):\n",
    "        self.history={'val_accuracy': []}\n",
    "\n",
    "\n",
    "    def on_epoch_end(self, epoch, logs={}):\n",
    "        ## on end of each epoch, we will get logs and update the self.history dict\n",
    "        if logs.get('val_accuracy', -1) != -1:\n",
    "            self.history['val_accuracy'].append(logs.get('val_accuracy'))\n",
    "        auc_tr=(roc_auc_score(y_train,(self.model.predict(X_train_pooled_output))) )\n",
    "        auc_test=(roc_auc_score (y_test, (self.model.predict(X_test_pooled_output) ) ) )\n",
    "        print('\\n  train_auc : ',auc_tr)\n",
    "        print('  val_auc : ',auc_test)\n",
    "        auc.append(auc_tr)\n",
    "        val_auc.append(auc_test)\n",
    "        loss=logs.get('loss')"
   ]
  },
  {
   "cell_type": "code",
   "execution_count": 41,
   "id": "b0ddd24b",
   "metadata": {},
   "outputs": [],
   "source": [
    "#filepath=\"model1_save/weights-{epoch:02d}-{val_accuracy:.4f}.hdf5\"\n",
    "#checkpoint = tf.keras.callbacks.ModelCheckpoint(filepath=filepath, monitor='val_loss',  verbose=1, save_best_only=True, mode='auto')\n",
    "\n",
    "history_own = LossHistory()\n",
    "\n",
    "earlystop = tf.keras.callbacks.EarlyStopping(monitor='val_accuracy',mode='max', patience=2, verbose=1)"
   ]
  },
  {
   "cell_type": "code",
   "execution_count": 42,
   "id": "4568c6ba",
   "metadata": {},
   "outputs": [
    {
     "name": "stdout",
     "output_type": "stream",
     "text": [
      "You must install pydot (`pip install pydot`) and install graphviz (see instructions at https://graphviz.gitlab.io/download/) for plot_model to work.\n"
     ]
    }
   ],
   "source": [
    "input = Input(shape=[768,],name='input_layer')\n",
    "dense1=Dense(400, activation='relu',name='dense_1')(input)\n",
    "dense2=Dense(220, activation='relu',name='dense_2')(dense1)\n",
    "dense3=Dense(40, activation='relu',name='dense_3')(dense2)\n",
    "output=Dense(1, activation='sigmoid',name='dense_4')(dense3)\n",
    "model1 = Model(inputs=input, outputs=output)\n",
    "tf.keras.utils.plot_model(model1,\"model_1.png\",show_shapes=True)"
   ]
  },
  {
   "cell_type": "code",
   "execution_count": 43,
   "id": "9072b0bc",
   "metadata": {},
   "outputs": [],
   "source": [
    "opt= tf.keras.optimizers.Adam(learning_rate=0.001)\n",
    "model1.compile(optimizer=opt,loss=tf.keras.losses.BinaryCrossentropy(),metrics='accuracy')"
   ]
  },
  {
   "cell_type": "code",
   "execution_count": 44,
   "id": "be8bfb55",
   "metadata": {},
   "outputs": [
    {
     "data": {
      "text/plain": [
       "(100000, 768)"
      ]
     },
     "execution_count": 44,
     "metadata": {},
     "output_type": "execute_result"
    }
   ],
   "source": [
    "X_test_pooled_output.shape"
   ]
  },
  {
   "cell_type": "code",
   "execution_count": 45,
   "id": "829f3cb8",
   "metadata": {},
   "outputs": [
    {
     "name": "stdout",
     "output_type": "stream",
     "text": [
      "Epoch 1/50\n",
      "12500/12500 [==============================] - 22s 2ms/step\n",
      "3125/3125 [==============================] - 6s 2ms/step\n",
      "\n",
      "  train_auc :  0.889939512523313\n",
      "  val_auc :  0.8890018387433918\n",
      "12500/12500 [==============================] - 106s 8ms/step - loss: 0.3060 - accuracy: 0.8715 - val_loss: 0.2913 - val_accuracy: 0.8846\n",
      "Epoch 2/50\n",
      "12500/12500 [==============================] - 23s 2ms/step\n",
      "3125/3125 [==============================] - 6s 2ms/step\n",
      "\n",
      "  train_auc :  0.8983748276801365\n",
      "  val_auc :  0.8973084945388652\n",
      "12500/12500 [==============================] - 101s 8ms/step - loss: 0.2820 - accuracy: 0.8823 - val_loss: 0.2840 - val_accuracy: 0.8805\n",
      "Epoch 3/50\n",
      "12500/12500 [==============================] - 24s 2ms/step\n",
      "3125/3125 [==============================] - 7s 2ms/step\n",
      "\n",
      "  train_auc :  0.9018635579149084\n",
      "  val_auc :  0.9004446819029486\n",
      "12500/12500 [==============================] - 107s 9ms/step - loss: 0.2754 - accuracy: 0.8850 - val_loss: 0.2663 - val_accuracy: 0.8888\n",
      "Epoch 4/50\n",
      "12500/12500 [==============================] - 24s 2ms/step\n",
      "3125/3125 [==============================] - 8s 3ms/step\n",
      "\n",
      "  train_auc :  0.9036174434487007\n",
      "  val_auc :  0.9025157750049293\n",
      "12500/12500 [==============================] - 104s 8ms/step - loss: 0.2720 - accuracy: 0.8865 - val_loss: 0.2658 - val_accuracy: 0.8903\n",
      "Epoch 5/50\n",
      "12500/12500 [==============================] - 24s 2ms/step\n",
      "3125/3125 [==============================] - 8s 3ms/step\n",
      "\n",
      "  train_auc :  0.9052072644638438\n",
      "  val_auc :  0.9038383468584911\n",
      "12500/12500 [==============================] - 99s 8ms/step - loss: 0.2696 - accuracy: 0.8873 - val_loss: 0.2643 - val_accuracy: 0.8913\n",
      "Epoch 6/50\n",
      "12500/12500 [==============================] - 24s 2ms/step\n",
      "3125/3125 [==============================] - 8s 3ms/step\n",
      "\n",
      "  train_auc :  0.9045750783525386\n",
      "  val_auc :  0.9031759308076398\n",
      "12500/12500 [==============================] - 104s 8ms/step - loss: 0.2677 - accuracy: 0.8880 - val_loss: 0.2771 - val_accuracy: 0.8838\n",
      "Epoch 7/50\n",
      "12500/12500 [==============================] - 23s 2ms/step\n",
      "3125/3125 [==============================] - 8s 3ms/step\n",
      "\n",
      "  train_auc :  0.9072344334161414\n",
      "  val_auc :  0.9058980251375514\n",
      "12500/12500 [==============================] - 111s 9ms/step - loss: 0.2656 - accuracy: 0.8891 - val_loss: 0.2571 - val_accuracy: 0.8941\n",
      "Epoch 8/50\n",
      "12500/12500 [==============================] - 25s 2ms/step\n",
      "3125/3125 [==============================] - 7s 2ms/step\n",
      "\n",
      "  train_auc :  0.9076914445303633\n",
      "  val_auc :  0.9064278728865378\n",
      "12500/12500 [==============================] - 109s 9ms/step - loss: 0.2645 - accuracy: 0.8894 - val_loss: 0.2590 - val_accuracy: 0.8928\n",
      "Epoch 9/50\n",
      "12500/12500 [==============================] - 25s 2ms/step\n",
      "3125/3125 [==============================] - 6s 2ms/step\n",
      "\n",
      "  train_auc :  0.9020228524730309\n",
      "  val_auc :  0.9009879414705652\n",
      "12500/12500 [==============================] - 103s 8ms/step - loss: 0.2633 - accuracy: 0.8901 - val_loss: 0.2687 - val_accuracy: 0.8887\n",
      "Epoch 10/50\n",
      "12500/12500 [==============================] - 25s 2ms/step\n",
      "3125/3125 [==============================] - 8s 2ms/step\n",
      "\n",
      "  train_auc :  0.9093790748323619\n",
      "  val_auc :  0.9079115411722348\n",
      "12500/12500 [==============================] - 97s 8ms/step - loss: 0.2617 - accuracy: 0.8910 - val_loss: 0.2569 - val_accuracy: 0.8952\n",
      "Epoch 11/50\n",
      "12500/12500 [==============================] - 28s 2ms/step\n",
      "3125/3125 [==============================] - 7s 2ms/step\n",
      "\n",
      "  train_auc :  0.910741053222833\n",
      "  val_auc :  0.9094907997203439\n",
      "12500/12500 [==============================] - 107s 9ms/step - loss: 0.2613 - accuracy: 0.8913 - val_loss: 0.2558 - val_accuracy: 0.8938\n",
      "Epoch 12/50\n",
      "12500/12500 [==============================] - 27s 2ms/step\n",
      "3125/3125 [==============================] - 7s 2ms/step\n",
      "\n",
      "  train_auc :  0.9115351164832073\n",
      "  val_auc :  0.9100847458273548\n",
      "12500/12500 [==============================] - 100s 8ms/step - loss: 0.2597 - accuracy: 0.8913 - val_loss: 0.2542 - val_accuracy: 0.8947\n",
      "Epoch 13/50\n",
      "12500/12500 [==============================] - 28s 2ms/step\n",
      "3125/3125 [==============================] - 7s 2ms/step\n",
      "\n",
      "  train_auc :  0.9112344120716235\n",
      "  val_auc :  0.9097245241931506\n",
      "12500/12500 [==============================] - 101s 8ms/step - loss: 0.2594 - accuracy: 0.8917 - val_loss: 0.2530 - val_accuracy: 0.8954\n",
      "Epoch 14/50\n",
      "12500/12500 [==============================] - 29s 2ms/step\n",
      "3125/3125 [==============================] - 7s 2ms/step\n",
      "\n",
      "  train_auc :  0.9105253939627598\n",
      "  val_auc :  0.9090552529426448\n",
      "12500/12500 [==============================] - 104s 8ms/step - loss: 0.2584 - accuracy: 0.8922 - val_loss: 0.2583 - val_accuracy: 0.8916\n",
      "Epoch 15/50\n",
      "12500/12500 [==============================] - 32s 3ms/step\n",
      "3125/3125 [==============================] - 7s 2ms/step\n",
      "\n",
      "  train_auc :  0.9114434522879062\n",
      "  val_auc :  0.9100368430019727\n",
      "12500/12500 [==============================] - 123s 10ms/step - loss: 0.2570 - accuracy: 0.8929 - val_loss: 0.2586 - val_accuracy: 0.8940\n",
      "Epoch 16/50\n",
      "12500/12500 [==============================] - 27s 2ms/step\n",
      "3125/3125 [==============================] - 7s 2ms/step\n",
      "\n",
      "  train_auc :  0.9114242554654036\n",
      "  val_auc :  0.9097583625769936\n",
      "12500/12500 [==============================] - 108s 9ms/step - loss: 0.2567 - accuracy: 0.8927 - val_loss: 0.2550 - val_accuracy: 0.8951\n",
      "Epoch 17/50\n",
      "12500/12500 [==============================] - 27s 2ms/step\n",
      "3125/3125 [==============================] - 6s 2ms/step\n",
      "\n",
      "  train_auc :  0.9130063704474141\n",
      "  val_auc :  0.911454945857659\n",
      "12500/12500 [==============================] - 109s 9ms/step - loss: 0.2562 - accuracy: 0.8926 - val_loss: 0.2505 - val_accuracy: 0.8964\n",
      "Epoch 18/50\n",
      "12500/12500 [==============================] - 22s 2ms/step\n",
      "3125/3125 [==============================] - 5s 2ms/step\n",
      "\n",
      "  train_auc :  0.9134762630810032\n",
      "  val_auc :  0.9117102452536834\n",
      "12500/12500 [==============================] - 97s 8ms/step - loss: 0.2552 - accuracy: 0.8939 - val_loss: 0.2503 - val_accuracy: 0.8965\n",
      "Epoch 19/50\n",
      "12500/12500 [==============================] - 22s 2ms/step\n",
      "3125/3125 [==============================] - 6s 2ms/step\n",
      "\n",
      "  train_auc :  0.9119305521038148\n",
      "  val_auc :  0.9103141530362763\n",
      "12500/12500 [==============================] - 87s 7ms/step - loss: 0.2546 - accuracy: 0.8934 - val_loss: 0.2641 - val_accuracy: 0.8883\n",
      "Epoch 20/50\n",
      "12500/12500 [==============================] - 22s 2ms/step\n",
      "3125/3125 [==============================] - 6s 2ms/step\n",
      "\n",
      "  train_auc :  0.91516382771063\n",
      "  val_auc :  0.9132903444621508\n",
      "12500/12500 [==============================] - 86s 7ms/step - loss: 0.2542 - accuracy: 0.8940 - val_loss: 0.2495 - val_accuracy: 0.8968\n",
      "Epoch 21/50\n",
      "12500/12500 [==============================] - 25s 2ms/step\n",
      "3125/3125 [==============================] - 6s 2ms/step\n",
      "\n",
      "  train_auc :  0.9149899486625936\n",
      "  val_auc :  0.9129563033391401\n",
      "12500/12500 [==============================] - 96s 8ms/step - loss: 0.2536 - accuracy: 0.8941 - val_loss: 0.2513 - val_accuracy: 0.8952\n",
      "Epoch 22/50\n",
      "12500/12500 [==============================] - 25s 2ms/step\n",
      "3125/3125 [==============================] - 6s 2ms/step\n",
      "\n",
      "  train_auc :  0.9138448767136897\n",
      "  val_auc :  0.9121589987182486\n",
      "12500/12500 [==============================] - 104s 8ms/step - loss: 0.2529 - accuracy: 0.8942 - val_loss: 0.2508 - val_accuracy: 0.8957\n",
      "Epoch 23/50\n",
      "12500/12500 [==============================] - 26s 2ms/step\n",
      "3125/3125 [==============================] - 7s 2ms/step\n",
      "\n",
      "  train_auc :  0.9157468658868253\n",
      "  val_auc :  0.9136799318479951\n",
      "12500/12500 [==============================] - 100s 8ms/step - loss: 0.2529 - accuracy: 0.8946 - val_loss: 0.2504 - val_accuracy: 0.8957\n",
      "Epoch 24/50\n",
      "12500/12500 [==============================] - 28s 2ms/step\n",
      "3125/3125 [==============================] - 7s 2ms/step\n",
      "\n",
      "  train_auc :  0.9149070586380454\n",
      "  val_auc :  0.9130853688261975\n",
      "12500/12500 [==============================] - 106s 9ms/step - loss: 0.2522 - accuracy: 0.8949 - val_loss: 0.2489 - val_accuracy: 0.8974\n",
      "Epoch 25/50\n",
      "12500/12500 [==============================] - 28s 2ms/step\n",
      "3125/3125 [==============================] - 7s 2ms/step\n",
      "\n",
      "  train_auc :  0.9147301576637169\n",
      "  val_auc :  0.9126672483717256\n",
      "12500/12500 [==============================] - 106s 9ms/step - loss: 0.2517 - accuracy: 0.8950 - val_loss: 0.2513 - val_accuracy: 0.8960\n"
     ]
    },
    {
     "name": "stdout",
     "output_type": "stream",
     "text": [
      "Epoch 26/50\n",
      "12500/12500 [==============================] - 29s 2ms/step\n",
      "3125/3125 [==============================] - 7s 2ms/step\n",
      "\n",
      "  train_auc :  0.9154539468565541\n",
      "  val_auc :  0.9133235024923099\n",
      "12500/12500 [==============================] - 116s 9ms/step - loss: 0.2512 - accuracy: 0.8954 - val_loss: 0.2516 - val_accuracy: 0.8943\n",
      "Epoch 27/50\n",
      "12500/12500 [==============================] - 26s 2ms/step\n",
      "3125/3125 [==============================] - 7s 2ms/step\n",
      "\n",
      "  train_auc :  0.9164174505103942\n",
      "  val_auc :  0.9144112508986328\n",
      "12500/12500 [==============================] - 104s 8ms/step - loss: 0.2512 - accuracy: 0.8952 - val_loss: 0.2472 - val_accuracy: 0.8977\n",
      "Epoch 28/50\n",
      "12500/12500 [==============================] - 28s 2ms/step\n",
      "3125/3125 [==============================] - 8s 2ms/step\n",
      "\n",
      "  train_auc :  0.91517300652861\n",
      "  val_auc :  0.9131840003569475\n",
      "12500/12500 [==============================] - 108s 9ms/step - loss: 0.2506 - accuracy: 0.8957 - val_loss: 0.2573 - val_accuracy: 0.8917\n",
      "Epoch 29/50\n",
      "12500/12500 [==============================] - 29s 2ms/step\n",
      "3125/3125 [==============================] - 7s 2ms/step\n",
      "\n",
      "  train_auc :  0.9156681292242889\n",
      "  val_auc :  0.9135702520723846\n",
      "12500/12500 [==============================] - 116s 9ms/step - loss: 0.2505 - accuracy: 0.8957 - val_loss: 0.2492 - val_accuracy: 0.8961\n",
      "Epoch 30/50\n",
      "12500/12500 [==============================] - 26s 2ms/step\n",
      "3125/3125 [==============================] - 6s 2ms/step\n",
      "\n",
      "  train_auc :  0.9116360523067921\n",
      "  val_auc :  0.9096126502674124\n",
      "12500/12500 [==============================] - 103s 8ms/step - loss: 0.2505 - accuracy: 0.8956 - val_loss: 0.2607 - val_accuracy: 0.8888\n",
      "Epoch 31/50\n",
      "12500/12500 [==============================] - 25s 2ms/step\n",
      "3125/3125 [==============================] - 6s 2ms/step\n",
      "\n",
      "  train_auc :  0.9161553010518758\n",
      "  val_auc :  0.9136398631566305\n",
      "12500/12500 [==============================] - 98s 8ms/step - loss: 0.2497 - accuracy: 0.8959 - val_loss: 0.2496 - val_accuracy: 0.8965\n",
      "Epoch 32/50\n",
      "12500/12500 [==============================] - 25s 2ms/step\n",
      "3125/3125 [==============================] - 7s 2ms/step\n",
      "\n",
      "  train_auc :  0.9184640931490873\n",
      "  val_auc :  0.9161015127021037\n",
      "12500/12500 [==============================] - 100s 8ms/step - loss: 0.2492 - accuracy: 0.8961 - val_loss: 0.2445 - val_accuracy: 0.8985\n",
      "Epoch 33/50\n",
      "12500/12500 [==============================] - 25s 2ms/step\n",
      "3125/3125 [==============================] - 7s 2ms/step\n",
      "\n",
      "  train_auc :  0.918110811854602\n",
      "  val_auc :  0.9155451744650364\n",
      "12500/12500 [==============================] - 99s 8ms/step - loss: 0.2491 - accuracy: 0.8960 - val_loss: 0.2483 - val_accuracy: 0.8966\n",
      "Epoch 34/50\n",
      "12500/12500 [==============================] - 26s 2ms/step\n",
      "3125/3125 [==============================] - 7s 2ms/step\n",
      "\n",
      "  train_auc :  0.9167220399912204\n",
      "  val_auc :  0.9142412627642745\n",
      "12500/12500 [==============================] - 102s 8ms/step - loss: 0.2487 - accuracy: 0.8964 - val_loss: 0.2520 - val_accuracy: 0.8945\n",
      "Epoch 35/50\n",
      "12500/12500 [==============================] - 26s 2ms/step\n",
      "3125/3125 [==============================] - 6s 2ms/step\n",
      "\n",
      "  train_auc :  0.9183432361837505\n",
      "  val_auc :  0.915916929062862\n",
      "12500/12500 [==============================] - 102s 8ms/step - loss: 0.2488 - accuracy: 0.8961 - val_loss: 0.2449 - val_accuracy: 0.8986\n",
      "Epoch 36/50\n",
      "12500/12500 [==============================] - 27s 2ms/step\n",
      "3125/3125 [==============================] - 7s 2ms/step\n",
      "\n",
      "  train_auc :  0.918166413702864\n",
      "  val_auc :  0.9157831470647266\n",
      "12500/12500 [==============================] - 102s 8ms/step - loss: 0.2483 - accuracy: 0.8964 - val_loss: 0.2493 - val_accuracy: 0.8963\n",
      "Epoch 37/50\n",
      "12500/12500 [==============================] - 28s 2ms/step\n",
      "3125/3125 [==============================] - 6s 2ms/step\n",
      "\n",
      "  train_auc :  0.9168389742313563\n",
      "  val_auc :  0.9146962678092853\n",
      "12500/12500 [==============================] - 108s 9ms/step - loss: 0.2480 - accuracy: 0.8969 - val_loss: 0.2486 - val_accuracy: 0.8971\n",
      "Epoch 38/50\n",
      "12500/12500 [==============================] - 26s 2ms/step\n",
      "3125/3125 [==============================] - 7s 2ms/step\n",
      "\n",
      "  train_auc :  0.9185353030360496\n",
      "  val_auc :  0.9160233962471238\n",
      "12500/12500 [==============================] - 97s 8ms/step - loss: 0.2476 - accuracy: 0.8968 - val_loss: 0.2591 - val_accuracy: 0.8916\n",
      "Epoch 39/50\n",
      "12500/12500 [==============================] - 28s 2ms/step\n",
      "3125/3125 [==============================] - 6s 2ms/step\n",
      "\n",
      "  train_auc :  0.9182067563167686\n",
      "  val_auc :  0.9154401169918417\n",
      "12500/12500 [==============================] - 108s 9ms/step - loss: 0.2473 - accuracy: 0.8968 - val_loss: 0.2470 - val_accuracy: 0.8985\n",
      "Epoch 40/50\n",
      "12500/12500 [==============================] - 29s 2ms/step\n",
      "3125/3125 [==============================] - 6s 2ms/step\n",
      "\n",
      "  train_auc :  0.9197449804536428\n",
      "  val_auc :  0.9171244311137771\n",
      "12500/12500 [==============================] - 101s 8ms/step - loss: 0.2472 - accuracy: 0.8972 - val_loss: 0.2441 - val_accuracy: 0.8981\n",
      "Epoch 41/50\n",
      "12500/12500 [==============================] - 27s 2ms/step\n",
      "3125/3125 [==============================] - 7s 2ms/step\n",
      "\n",
      "  train_auc :  0.9191577586672068\n",
      "  val_auc :  0.9165875902710058\n",
      "12500/12500 [==============================] - 107s 9ms/step - loss: 0.2468 - accuracy: 0.8973 - val_loss: 0.2446 - val_accuracy: 0.8986\n",
      "Epoch 42/50\n",
      "12500/12500 [==============================] - 28s 2ms/step\n",
      "3125/3125 [==============================] - 7s 2ms/step\n",
      "\n",
      "  train_auc :  0.9196237804771875\n",
      "  val_auc :  0.9170572101944554\n",
      "12500/12500 [==============================] - 110s 9ms/step - loss: 0.2468 - accuracy: 0.8972 - val_loss: 0.2460 - val_accuracy: 0.8979\n",
      "Epoch 43/50\n",
      "12500/12500 [==============================] - 25s 2ms/step\n",
      "3125/3125 [==============================] - 6s 2ms/step\n",
      "\n",
      "  train_auc :  0.916623697371579\n",
      "  val_auc :  0.9140696172412379\n",
      "12500/12500 [==============================] - 101s 8ms/step - loss: 0.2463 - accuracy: 0.8974 - val_loss: 0.2495 - val_accuracy: 0.8967\n",
      "Epoch 44/50\n",
      "12500/12500 [==============================] - 25s 2ms/step\n",
      "3125/3125 [==============================] - 7s 2ms/step\n",
      "\n",
      "  train_auc :  0.920284194359297\n",
      "  val_auc :  0.9176720535301156\n",
      "12500/12500 [==============================] - 95s 8ms/step - loss: 0.2461 - accuracy: 0.8973 - val_loss: 0.2439 - val_accuracy: 0.8979\n",
      "Epoch 45/50\n",
      "12500/12500 [==============================] - 17s 1ms/step\n",
      "3125/3125 [==============================] - 5s 1ms/step\n",
      "\n",
      "  train_auc :  0.9191629024806492\n",
      "  val_auc :  0.9164139298981981\n",
      "12500/12500 [==============================] - 76s 6ms/step - loss: 0.2459 - accuracy: 0.8977 - val_loss: 0.2444 - val_accuracy: 0.8993\n",
      "Epoch 46/50\n",
      "12500/12500 [==============================] - 17s 1ms/step\n",
      "3125/3125 [==============================] - 4s 1ms/step\n",
      "\n",
      "  train_auc :  0.920043701920491\n",
      "  val_auc :  0.9176172761315234\n",
      "12500/12500 [==============================] - 72s 6ms/step - loss: 0.2460 - accuracy: 0.8975 - val_loss: 0.2442 - val_accuracy: 0.8987\n",
      "Epoch 47/50\n",
      "12500/12500 [==============================] - 17s 1ms/step\n",
      "3125/3125 [==============================] - 4s 1ms/step\n",
      "\n",
      "  train_auc :  0.9192825875051811\n",
      "  val_auc :  0.9166545904837442\n",
      "12500/12500 [==============================] - 67s 5ms/step - loss: 0.2453 - accuracy: 0.8977 - val_loss: 0.2476 - val_accuracy: 0.8958\n",
      "Epoch 48/50\n",
      "12500/12500 [==============================] - 17s 1ms/step\n",
      "3125/3125 [==============================] - 4s 1ms/step\n",
      "\n",
      "  train_auc :  0.9199629777071305\n",
      "  val_auc :  0.9173453409293109\n",
      "12500/12500 [==============================] - 67s 5ms/step - loss: 0.2454 - accuracy: 0.8979 - val_loss: 0.2481 - val_accuracy: 0.8995\n",
      "Epoch 49/50\n",
      "12500/12500 [==============================] - 17s 1ms/step\n",
      "3125/3125 [==============================] - 4s 1ms/step\n",
      "\n",
      "  train_auc :  0.9189567194636465\n",
      "  val_auc :  0.916031449188356\n",
      "12500/12500 [==============================] - 67s 5ms/step - loss: 0.2450 - accuracy: 0.8981 - val_loss: 0.2459 - val_accuracy: 0.8979\n",
      "Epoch 50/50\n",
      "12500/12500 [==============================] - 17s 1ms/step\n",
      "3125/3125 [==============================] - 4s 1ms/step\n",
      "\n",
      "  train_auc :  0.9183588072787737\n",
      "  val_auc :  0.9158347122518434\n",
      "12500/12500 [==============================] - 65s 5ms/step - loss: 0.2449 - accuracy: 0.8983 - val_loss: 0.2484 - val_accuracy: 0.8971\n"
     ]
    },
    {
     "data": {
      "text/plain": [
       "<keras.callbacks.History at 0x204c5623790>"
      ]
     },
     "execution_count": 45,
     "metadata": {},
     "output_type": "execute_result"
    }
   ],
   "source": [
    "tf.keras.backend.clear_session()\n",
    "model1.fit(X_train_pooled_output,y_train,validation_data=(X_test_pooled_output,y_test),epochs=50,callbacks=[history_own])"
   ]
  },
  {
   "cell_type": "code",
   "execution_count": 48,
   "id": "06aac291",
   "metadata": {},
   "outputs": [
    {
     "data": {
      "image/png": "[encoded data removed]",
      "text/plain": [
       "<Figure size 1200x1000 with 1 Axes>"
      ]
     },
     "metadata": {},
     "output_type": "display_data"
    }
   ],
   "source": [
    "import matplotlib.pyplot as plt\n",
    "plt.rcParams.update({'font.size': 18})\n",
    "plt.figure(figsize=(12,10))\n",
    "plt.plot(np.arange(len(auc)),auc,color=\"red\")\n",
    "plt.plot(np.arange(len(auc)),val_auc,color='blue')\n",
    "plt.scatter(np.arange(len(auc)),auc,color='red')\n",
    "plt.scatter(np.arange(len(auc)),val_auc,color='blue')\n",
    "plt.xticks(np.arange(0,len(auc)+1,5),rotation=-35)\n",
    "plt.xlabel('Epochs')\n",
    "plt.ylabel('AUC Score')\n",
    "plt.legend(['Train AUC','Test AUC'])\n",
    "plt.grid()\n",
    "plt.show()"
   ]
  },
  {
   "cell_type": "code",
   "execution_count": null,
   "id": "e92e2fdb",
   "metadata": {},
   "outputs": [],
   "source": []
  },
  {
   "cell_type": "code",
   "execution_count": null,
   "id": "f35d5ffd",
   "metadata": {},
   "outputs": [],
   "source": []
  },
  {
   "cell_type": "code",
   "execution_count": null,
   "id": "9c5c5dee",
   "metadata": {},
   "outputs": [],
   "source": []
  },
  {
   "cell_type": "code",
   "execution_count": null,
   "id": "5dd49bf4",
   "metadata": {},
   "outputs": [],
   "source": []
  },
  {
   "cell_type": "code",
   "execution_count": null,
   "id": "0f5ff8a6",
   "metadata": {},
   "outputs": [],
   "source": []
  },
  {
   "cell_type": "code",
   "execution_count": null,
   "id": "9c2e2bc0",
   "metadata": {},
   "outputs": [],
   "source": []
  },
  {
   "cell_type": "code",
   "execution_count": null,
   "id": "eb17f829",
   "metadata": {},
   "outputs": [],
   "source": []
  },
  {
   "cell_type": "code",
   "execution_count": null,
   "id": "8e982284",
   "metadata": {},
   "outputs": [],
   "source": []
  },
  {
   "cell_type": "code",
   "execution_count": null,
   "id": "33e08a2c",
   "metadata": {},
   "outputs": [],
   "source": []
  },
  {
   "cell_type": "code",
   "execution_count": null,
   "id": "7d57adfc",
   "metadata": {},
   "outputs": [],
   "source": []
  },
  {
   "cell_type": "code",
   "execution_count": null,
   "id": "b5f13959",
   "metadata": {},
   "outputs": [],
   "source": []
  },
  {
   "cell_type": "code",
   "execution_count": null,
   "id": "9c99ab3f",
   "metadata": {},
   "outputs": [],
   "source": []
  }
 ],
 "metadata": {
  "kernelspec": {
   "display_name": "Python 3 (ipykernel)",
   "language": "python",
   "name": "python3"
  },
  "language_info": {
   "codemirror_mode": {
    "name": "ipython",
    "version": 3
   },
   "file_extension": ".py",
   "mimetype": "text/x-python",
   "name": "python",
   "nbconvert_exporter": "python",
   "pygments_lexer": "ipython3",
   "version": "3.9.13"
  }
 },
 "nbformat": 4,
 "nbformat_minor": 5
}
